{
 "cells": [
  {
   "cell_type": "code",
   "execution_count": 555,
   "metadata": {},
   "outputs": [],
   "source": [
    "import numpy as np\n",
    "import pandas as pd\n",
    "import matplotlib.pyplot as plt\n",
    "from sklearn.linear_model import LogisticRegression\n",
    "from sklearn.model_selection import train_test_split\n",
    "import torch\n",
    "import math\n",
    "import torch.nn.functional as F\n",
    "import torch.nn as nn\n",
    "from torch import optim\n",
    "import time"
   ]
  },
  {
   "cell_type": "code",
   "execution_count": 556,
   "metadata": {},
   "outputs": [
    {
     "name": "stdout",
     "output_type": "stream",
     "text": [
      "13\n"
     ]
    }
   ],
   "source": [
    "with open(\"data/game_idx.txt\") as f:\n",
    "    game_idx = int(f.read())\n",
    "    print(game_idx)"
   ]
  },
  {
   "cell_type": "code",
   "execution_count": 557,
   "metadata": {},
   "outputs": [],
   "source": [
    "columns = ['bird_y', 'bottom_pipe_y', 'top_pipe_y', 'dist', 'jump']"
   ]
  },
  {
   "cell_type": "code",
   "execution_count": 558,
   "metadata": {},
   "outputs": [],
   "source": [
    "games_data = []\n",
    "for idx in range(game_idx):\n",
    "    game_df = pd.read_csv(f\"data/game_{idx}.txt\", skiprows=1, header=None, names=columns)\n",
    "    game_df = game_df.iloc[50:]\n",
    "    game_df = game_df.iloc[:-50]\n",
    "    games_data.append(game_df)"
   ]
  },
  {
   "cell_type": "code",
   "execution_count": 559,
   "metadata": {},
   "outputs": [],
   "source": [
    "game_df = pd.concat(games_data)"
   ]
  },
  {
   "cell_type": "code",
   "execution_count": 560,
   "metadata": {},
   "outputs": [
    {
     "data": {
      "text/html": [
       "<div>\n",
       "<style scoped>\n",
       "    .dataframe tbody tr th:only-of-type {\n",
       "        vertical-align: middle;\n",
       "    }\n",
       "\n",
       "    .dataframe tbody tr th {\n",
       "        vertical-align: top;\n",
       "    }\n",
       "\n",
       "    .dataframe thead th {\n",
       "        text-align: right;\n",
       "    }\n",
       "</style>\n",
       "<table border=\"1\" class=\"dataframe\">\n",
       "  <thead>\n",
       "    <tr style=\"text-align: right;\">\n",
       "      <th></th>\n",
       "      <th>bird_y</th>\n",
       "      <th>bottom_pipe_y</th>\n",
       "      <th>top_pipe_y</th>\n",
       "      <th>dist</th>\n",
       "      <th>jump</th>\n",
       "    </tr>\n",
       "  </thead>\n",
       "  <tbody>\n",
       "    <tr>\n",
       "      <th>50</th>\n",
       "      <td>384</td>\n",
       "      <td>410</td>\n",
       "      <td>230</td>\n",
       "      <td>233</td>\n",
       "      <td>0</td>\n",
       "    </tr>\n",
       "    <tr>\n",
       "      <th>51</th>\n",
       "      <td>377</td>\n",
       "      <td>410</td>\n",
       "      <td>230</td>\n",
       "      <td>231</td>\n",
       "      <td>0</td>\n",
       "    </tr>\n",
       "    <tr>\n",
       "      <th>52</th>\n",
       "      <td>371</td>\n",
       "      <td>410</td>\n",
       "      <td>230</td>\n",
       "      <td>229</td>\n",
       "      <td>0</td>\n",
       "    </tr>\n",
       "    <tr>\n",
       "      <th>53</th>\n",
       "      <td>366</td>\n",
       "      <td>410</td>\n",
       "      <td>230</td>\n",
       "      <td>227</td>\n",
       "      <td>0</td>\n",
       "    </tr>\n",
       "    <tr>\n",
       "      <th>54</th>\n",
       "      <td>362</td>\n",
       "      <td>410</td>\n",
       "      <td>230</td>\n",
       "      <td>225</td>\n",
       "      <td>0</td>\n",
       "    </tr>\n",
       "    <tr>\n",
       "      <th>...</th>\n",
       "      <td>...</td>\n",
       "      <td>...</td>\n",
       "      <td>...</td>\n",
       "      <td>...</td>\n",
       "      <td>...</td>\n",
       "    </tr>\n",
       "    <tr>\n",
       "      <th>569</th>\n",
       "      <td>496</td>\n",
       "      <td>627</td>\n",
       "      <td>439</td>\n",
       "      <td>0</td>\n",
       "      <td>0</td>\n",
       "    </tr>\n",
       "    <tr>\n",
       "      <th>570</th>\n",
       "      <td>498</td>\n",
       "      <td>627</td>\n",
       "      <td>439</td>\n",
       "      <td>0</td>\n",
       "      <td>0</td>\n",
       "    </tr>\n",
       "    <tr>\n",
       "      <th>571</th>\n",
       "      <td>501</td>\n",
       "      <td>627</td>\n",
       "      <td>439</td>\n",
       "      <td>0</td>\n",
       "      <td>0</td>\n",
       "    </tr>\n",
       "    <tr>\n",
       "      <th>572</th>\n",
       "      <td>505</td>\n",
       "      <td>627</td>\n",
       "      <td>439</td>\n",
       "      <td>0</td>\n",
       "      <td>0</td>\n",
       "    </tr>\n",
       "    <tr>\n",
       "      <th>573</th>\n",
       "      <td>510</td>\n",
       "      <td>627</td>\n",
       "      <td>439</td>\n",
       "      <td>0</td>\n",
       "      <td>0</td>\n",
       "    </tr>\n",
       "  </tbody>\n",
       "</table>\n",
       "<p>27955 rows × 5 columns</p>\n",
       "</div>"
      ],
      "text/plain": [
       "     bird_y  bottom_pipe_y  top_pipe_y  dist  jump\n",
       "50      384            410         230   233     0\n",
       "51      377            410         230   231     0\n",
       "52      371            410         230   229     0\n",
       "53      366            410         230   227     0\n",
       "54      362            410         230   225     0\n",
       "..      ...            ...         ...   ...   ...\n",
       "569     496            627         439     0     0\n",
       "570     498            627         439     0     0\n",
       "571     501            627         439     0     0\n",
       "572     505            627         439     0     0\n",
       "573     510            627         439     0     0\n",
       "\n",
       "[27955 rows x 5 columns]"
      ]
     },
     "execution_count": 560,
     "metadata": {},
     "output_type": "execute_result"
    }
   ],
   "source": [
    "game_df"
   ]
  },
  {
   "cell_type": "code",
   "execution_count": 561,
   "metadata": {},
   "outputs": [
    {
     "data": {
      "text/plain": [
       "0    26546\n",
       "1     1409\n",
       "Name: jump, dtype: int64"
      ]
     },
     "execution_count": 561,
     "metadata": {},
     "output_type": "execute_result"
    }
   ],
   "source": [
    "game_df.jump.value_counts()"
   ]
  },
  {
   "cell_type": "code",
   "execution_count": 562,
   "metadata": {},
   "outputs": [
    {
     "data": {
      "text/html": [
       "<div>\n",
       "<style scoped>\n",
       "    .dataframe tbody tr th:only-of-type {\n",
       "        vertical-align: middle;\n",
       "    }\n",
       "\n",
       "    .dataframe tbody tr th {\n",
       "        vertical-align: top;\n",
       "    }\n",
       "\n",
       "    .dataframe thead th {\n",
       "        text-align: right;\n",
       "    }\n",
       "</style>\n",
       "<table border=\"1\" class=\"dataframe\">\n",
       "  <thead>\n",
       "    <tr style=\"text-align: right;\">\n",
       "      <th></th>\n",
       "      <th>bird_y</th>\n",
       "      <th>bottom_pipe_y</th>\n",
       "      <th>top_pipe_y</th>\n",
       "      <th>dist</th>\n",
       "      <th>jump</th>\n",
       "    </tr>\n",
       "  </thead>\n",
       "  <tbody>\n",
       "    <tr>\n",
       "      <th>27950</th>\n",
       "      <td>496</td>\n",
       "      <td>627</td>\n",
       "      <td>439</td>\n",
       "      <td>0</td>\n",
       "      <td>0</td>\n",
       "    </tr>\n",
       "    <tr>\n",
       "      <th>27951</th>\n",
       "      <td>498</td>\n",
       "      <td>627</td>\n",
       "      <td>439</td>\n",
       "      <td>0</td>\n",
       "      <td>0</td>\n",
       "    </tr>\n",
       "    <tr>\n",
       "      <th>27952</th>\n",
       "      <td>501</td>\n",
       "      <td>627</td>\n",
       "      <td>439</td>\n",
       "      <td>0</td>\n",
       "      <td>0</td>\n",
       "    </tr>\n",
       "    <tr>\n",
       "      <th>27953</th>\n",
       "      <td>505</td>\n",
       "      <td>627</td>\n",
       "      <td>439</td>\n",
       "      <td>0</td>\n",
       "      <td>0</td>\n",
       "    </tr>\n",
       "    <tr>\n",
       "      <th>27954</th>\n",
       "      <td>510</td>\n",
       "      <td>627</td>\n",
       "      <td>439</td>\n",
       "      <td>0</td>\n",
       "      <td>0</td>\n",
       "    </tr>\n",
       "  </tbody>\n",
       "</table>\n",
       "</div>"
      ],
      "text/plain": [
       "       bird_y  bottom_pipe_y  top_pipe_y  dist  jump\n",
       "27950     496            627         439     0     0\n",
       "27951     498            627         439     0     0\n",
       "27952     501            627         439     0     0\n",
       "27953     505            627         439     0     0\n",
       "27954     510            627         439     0     0"
      ]
     },
     "execution_count": 562,
     "metadata": {},
     "output_type": "execute_result"
    }
   ],
   "source": [
    "game_df.reset_index(drop=True).tail()"
   ]
  },
  {
   "cell_type": "code",
   "execution_count": 563,
   "metadata": {},
   "outputs": [],
   "source": [
    "x = game_df[columns[:4]]\n",
    "y = game_df[\"jump\"]"
   ]
  },
  {
   "cell_type": "code",
   "execution_count": 564,
   "metadata": {},
   "outputs": [
    {
     "data": {
      "text/html": [
       "<div>\n",
       "<style scoped>\n",
       "    .dataframe tbody tr th:only-of-type {\n",
       "        vertical-align: middle;\n",
       "    }\n",
       "\n",
       "    .dataframe tbody tr th {\n",
       "        vertical-align: top;\n",
       "    }\n",
       "\n",
       "    .dataframe thead th {\n",
       "        text-align: right;\n",
       "    }\n",
       "</style>\n",
       "<table border=\"1\" class=\"dataframe\">\n",
       "  <thead>\n",
       "    <tr style=\"text-align: right;\">\n",
       "      <th></th>\n",
       "      <th>bird_y</th>\n",
       "      <th>bottom_pipe_y</th>\n",
       "      <th>top_pipe_y</th>\n",
       "      <th>dist</th>\n",
       "    </tr>\n",
       "  </thead>\n",
       "  <tbody>\n",
       "    <tr>\n",
       "      <th>27950</th>\n",
       "      <td>496</td>\n",
       "      <td>627</td>\n",
       "      <td>439</td>\n",
       "      <td>0</td>\n",
       "    </tr>\n",
       "    <tr>\n",
       "      <th>27951</th>\n",
       "      <td>498</td>\n",
       "      <td>627</td>\n",
       "      <td>439</td>\n",
       "      <td>0</td>\n",
       "    </tr>\n",
       "    <tr>\n",
       "      <th>27952</th>\n",
       "      <td>501</td>\n",
       "      <td>627</td>\n",
       "      <td>439</td>\n",
       "      <td>0</td>\n",
       "    </tr>\n",
       "    <tr>\n",
       "      <th>27953</th>\n",
       "      <td>505</td>\n",
       "      <td>627</td>\n",
       "      <td>439</td>\n",
       "      <td>0</td>\n",
       "    </tr>\n",
       "    <tr>\n",
       "      <th>27954</th>\n",
       "      <td>510</td>\n",
       "      <td>627</td>\n",
       "      <td>439</td>\n",
       "      <td>0</td>\n",
       "    </tr>\n",
       "  </tbody>\n",
       "</table>\n",
       "</div>"
      ],
      "text/plain": [
       "       bird_y  bottom_pipe_y  top_pipe_y  dist\n",
       "27950     496            627         439     0\n",
       "27951     498            627         439     0\n",
       "27952     501            627         439     0\n",
       "27953     505            627         439     0\n",
       "27954     510            627         439     0"
      ]
     },
     "execution_count": 564,
     "metadata": {},
     "output_type": "execute_result"
    }
   ],
   "source": [
    "x.reset_index(drop=True).tail()"
   ]
  },
  {
   "cell_type": "code",
   "execution_count": 565,
   "metadata": {},
   "outputs": [
    {
     "data": {
      "text/plain": [
       "27950    0\n",
       "27951    0\n",
       "27952    0\n",
       "27953    0\n",
       "27954    0\n",
       "Name: jump, dtype: int64"
      ]
     },
     "execution_count": 565,
     "metadata": {},
     "output_type": "execute_result"
    }
   ],
   "source": [
    "y.reset_index(drop=True).tail()"
   ]
  },
  {
   "cell_type": "code",
   "execution_count": 566,
   "metadata": {},
   "outputs": [
    {
     "data": {
      "text/html": [
       "<div>\n",
       "<style scoped>\n",
       "    .dataframe tbody tr th:only-of-type {\n",
       "        vertical-align: middle;\n",
       "    }\n",
       "\n",
       "    .dataframe tbody tr th {\n",
       "        vertical-align: top;\n",
       "    }\n",
       "\n",
       "    .dataframe thead th {\n",
       "        text-align: right;\n",
       "    }\n",
       "</style>\n",
       "<table border=\"1\" class=\"dataframe\">\n",
       "  <thead>\n",
       "    <tr style=\"text-align: right;\">\n",
       "      <th></th>\n",
       "      <th>bird_y</th>\n",
       "      <th>bottom_pipe_y</th>\n",
       "      <th>top_pipe_y</th>\n",
       "      <th>dist</th>\n",
       "      <th>jump</th>\n",
       "    </tr>\n",
       "  </thead>\n",
       "  <tbody>\n",
       "    <tr>\n",
       "      <th>569</th>\n",
       "      <td>496</td>\n",
       "      <td>627</td>\n",
       "      <td>439</td>\n",
       "      <td>0</td>\n",
       "      <td>0</td>\n",
       "    </tr>\n",
       "    <tr>\n",
       "      <th>570</th>\n",
       "      <td>498</td>\n",
       "      <td>627</td>\n",
       "      <td>439</td>\n",
       "      <td>0</td>\n",
       "      <td>0</td>\n",
       "    </tr>\n",
       "    <tr>\n",
       "      <th>571</th>\n",
       "      <td>501</td>\n",
       "      <td>627</td>\n",
       "      <td>439</td>\n",
       "      <td>0</td>\n",
       "      <td>0</td>\n",
       "    </tr>\n",
       "    <tr>\n",
       "      <th>572</th>\n",
       "      <td>505</td>\n",
       "      <td>627</td>\n",
       "      <td>439</td>\n",
       "      <td>0</td>\n",
       "      <td>0</td>\n",
       "    </tr>\n",
       "    <tr>\n",
       "      <th>573</th>\n",
       "      <td>510</td>\n",
       "      <td>627</td>\n",
       "      <td>439</td>\n",
       "      <td>0</td>\n",
       "      <td>0</td>\n",
       "    </tr>\n",
       "  </tbody>\n",
       "</table>\n",
       "</div>"
      ],
      "text/plain": [
       "     bird_y  bottom_pipe_y  top_pipe_y  dist  jump\n",
       "569     496            627         439     0     0\n",
       "570     498            627         439     0     0\n",
       "571     501            627         439     0     0\n",
       "572     505            627         439     0     0\n",
       "573     510            627         439     0     0"
      ]
     },
     "execution_count": 566,
     "metadata": {},
     "output_type": "execute_result"
    }
   ],
   "source": [
    "game_df.tail()"
   ]
  },
  {
   "cell_type": "code",
   "execution_count": 567,
   "metadata": {},
   "outputs": [],
   "source": [
    "game_df = game_df.reset_index(drop=True)"
   ]
  },
  {
   "cell_type": "code",
   "execution_count": 579,
   "metadata": {},
   "outputs": [],
   "source": [
    "game_sample = pd.concat([\n",
    "    game_df[game_df[\"jump\"] == 1], \n",
    "    game_df[game_df[\"jump\"] == 0].sample(frac=0.15)\n",
    "])"
   ]
  },
  {
   "cell_type": "code",
   "execution_count": 581,
   "metadata": {},
   "outputs": [],
   "source": [
    "x = game_sample.iloc[:, :-1]\n",
    "y = game_sample.iloc[:, -1]"
   ]
  },
  {
   "cell_type": "code",
   "execution_count": 594,
   "metadata": {},
   "outputs": [],
   "source": [
    "x_train, x_val, y_train, y_val = train_test_split(x.values, y.values, stratify=y.values, random_state=0)"
   ]
  },
  {
   "cell_type": "code",
   "execution_count": 595,
   "metadata": {},
   "outputs": [
    {
     "name": "stdout",
     "output_type": "stream",
     "text": [
      "(4043, 4) (1348, 4) (4043,) (1348,)\n"
     ]
    }
   ],
   "source": [
    "print(x_train.shape, x_val.shape, y_train.shape, y_val.shape)"
   ]
  },
  {
   "cell_type": "code",
   "execution_count": 596,
   "metadata": {},
   "outputs": [],
   "source": [
    "x_train, y_train, x_val, y_val = map(torch.tensor, (x_train, y_train, x_val, y_val))"
   ]
  },
  {
   "cell_type": "code",
   "execution_count": 597,
   "metadata": {},
   "outputs": [],
   "source": [
    "class Net(torch.nn.Module):\n",
    "    def __init__(self):\n",
    "        super().__init__()\n",
    "        self.layer1 = torch.nn.Linear(4, 4, bias=True)\n",
    "        self.layer2 = torch.nn.Linear(4, 2, bias=True)\n",
    "#         torch.manual_seed(0)\n",
    "#         self.weights1 = torch.randn(4, 4) / math.sqrt(2)\n",
    "#         self.weights1.requires_grad_()\n",
    "#         self.bias1 = torch.zeros(4, requires_grad=True)\n",
    "\n",
    "#         self.weights2 = torch.randn(4, 1) / math.sqrt(2)\n",
    "#         self.weights2.requires_grad_()\n",
    "#         self.bias2 = torch.zeros(1, requires_grad=True)\n",
    "        \n",
    "#         self.weights1 = self.weights1.to(device)\n",
    "#         self.bias1 = self.bias1.to(device)\n",
    "#         self.weights2 = self.weights2.to(device)\n",
    "#         self.bias2 = self.bias2.to(device)\n",
    "\n",
    "\n",
    "    def forward(self, x):\n",
    "        a1 = self.layer1(x)\n",
    "#         a1 = torch.matmul(x, self.weights1) + self.bias1 # (N, 2) x (2, 2) -> (N, 2)\n",
    "        h1 = F.sigmoid(a1) # (N, 2)\n",
    "        a2 = self.layer2(h1)\n",
    "#         a2 = torch.matmul(h1, self.weights2) + self.bias2 # (N, 2) x (2, 4) -> (N, 4)\n",
    "#         h2 = F.sigmoid(a2) # (N, 2)\n",
    "#         h2 = a2.exp()/a2.exp().sum(-1).unsqueeze(-1) # (N, 4)\n",
    "        return a2"
   ]
  },
  {
   "cell_type": "code",
   "execution_count": 598,
   "metadata": {},
   "outputs": [
    {
     "data": {
      "text/plain": [
       "Net(\n",
       "  (layer1): Linear(in_features=4, out_features=4, bias=True)\n",
       "  (layer2): Linear(in_features=4, out_features=2, bias=True)\n",
       ")"
      ]
     },
     "execution_count": 598,
     "metadata": {},
     "output_type": "execute_result"
    }
   ],
   "source": [
    "model = Net()\n",
    "model"
   ]
  },
  {
   "cell_type": "code",
   "execution_count": 599,
   "metadata": {},
   "outputs": [],
   "source": [
    "def loss_fn(y, y_hat):\n",
    "#     loss = (y-y_hat) ** 2\n",
    "    loss = -((y * (y_hat.log())) + (1-y) * (1-y_hat).log())\n",
    "    return loss.mean()"
   ]
  },
  {
   "cell_type": "code",
   "execution_count": 600,
   "metadata": {},
   "outputs": [],
   "source": [
    "def accuracy(y, y_hat):\n",
    "    pred = torch.argmax(y_hat, dim=1)\n",
    "    return (pred == y).float().mean()"
   ]
  },
  {
   "cell_type": "code",
   "execution_count": 601,
   "metadata": {},
   "outputs": [],
   "source": [
    "def train(model, x, y, lr, epochs, device):\n",
    "\n",
    "    X_train = x.float().to(device)\n",
    "    Y_train = y.long().to(device)\n",
    "    model = model.to(device)\n",
    "\n",
    "    loss_arr = []\n",
    "    acc_arr = []\n",
    "    loss_fn = torch.nn.CrossEntropyLoss()\n",
    "\n",
    "    for epoch in range(epochs):\n",
    "#         print(\"true\")\n",
    "        y_hat = model(X_train)\n",
    "        loss = loss_fn(y_hat, Y_train)\n",
    "        loss.backward()\n",
    "        \n",
    "        loss_arr.append(loss.item())\n",
    "        acc_arr.append(accuracy(Y_train, y_hat))\n",
    "\n",
    "        with torch.no_grad():\n",
    "            model.layer1.weight.data -= model.layer1.weight.grad * lr\n",
    "            model.layer1.weight.grad.zero_()\n",
    "            \n",
    "            model.layer2.weight.data -= model.layer2.weight.grad * lr\n",
    "            model.layer2.weight.grad.zero_()\n",
    "            \n",
    "            \n",
    "            model.layer1.bias.data -= model.layer1.bias.grad * lr\n",
    "            model.layer2.bias.data -= model.layer2.bias.grad * lr\n",
    "            \n",
    "            model.layer1.bias.grad.zero_()\n",
    "            model.layer2.bias.grad.zero_()\n",
    "\n",
    "    plt.plot(loss_arr, 'r-')\n",
    "    plt.plot(acc_arr, 'b-')\n",
    "    plt.show()\n",
    "    print('Loss before training', loss_arr[0])\n",
    "    print('Loss after training', loss_arr[-1])"
   ]
  },
  {
   "cell_type": "code",
   "execution_count": 602,
   "metadata": {},
   "outputs": [
    {
     "name": "stderr",
     "output_type": "stream",
     "text": [
      "/home/krishna/miniconda3/envs/padhai/lib/python3.7/site-packages/torch/nn/functional.py:1569: UserWarning: nn.functional.sigmoid is deprecated. Use torch.sigmoid instead.\n",
      "  warnings.warn(\"nn.functional.sigmoid is deprecated. Use torch.sigmoid instead.\")\n"
     ]
    },
    {
     "data": {
      "image/png": "[encoded data removed]",
      "text/plain": [
       "<Figure size 432x288 with 1 Axes>"
      ]
     },
     "metadata": {
      "needs_background": "light"
     },
     "output_type": "display_data"
    },
    {
     "name": "stdout",
     "output_type": "stream",
     "text": [
      "Loss before training 0.892848789691925\n",
      "Loss after training 0.6106334328651428\n"
     ]
    }
   ],
   "source": [
    "device = torch.device(\"cuda:0\")\n",
    "\n",
    "model = Net()\n",
    "\n",
    "train(model, x_train, y_train, lr=0.001, epochs=1000, device=device)"
   ]
  },
  {
   "cell_type": "code",
   "execution_count": 201,
   "metadata": {},
   "outputs": [],
   "source": [
    "X_valid = x_val.float()\n",
    "Y_valid = y_val.long()"
   ]
  },
  {
   "cell_type": "code",
   "execution_count": 604,
   "metadata": {},
   "outputs": [
    {
     "name": "stdout",
     "output_type": "stream",
     "text": [
      "[0.61648476 0.3835152 ]\n"
     ]
    }
   ],
   "source": [
    "# for i in range(10):\n",
    "arr = np.array([390,506,318,0])\n",
    "arr = torch.from_numpy(arr)\n",
    "arr = arr.float().to(device)\n",
    "\n",
    "with torch.no_grad():\n",
    "    pred = model(arr)\n",
    "    print(F.softmax(pred, dim=-1).cpu().numpy())"
   ]
  },
  {
   "cell_type": "markdown",
   "metadata": {},
   "source": [
    "# Extras"
   ]
  },
  {
   "cell_type": "code",
   "execution_count": 242,
   "metadata": {},
   "outputs": [
    {
     "data": {
      "image/png": "[encoded data removed]",
      "text/plain": [
       "<Figure size 432x288 with 1 Axes>"
      ]
     },
     "metadata": {
      "needs_background": "light"
     },
     "output_type": "display_data"
    },
    {
     "name": "stdout",
     "output_type": "stream",
     "text": [
      "Loss before training 2.1716325283050537\n",
      "Loss after training 1.3293184041976929\n"
     ]
    }
   ],
   "source": [
    "torch.manual_seed(0)\n",
    "weights1 = torch.randn(4, 4) / math.sqrt(2)\n",
    "weights1.requires_grad_()\n",
    "bias1 = torch.zeros(4, requires_grad=True)\n",
    "\n",
    "weights2 = torch.randn(4, 8) / math.sqrt(2)\n",
    "weights2.requires_grad_()\n",
    "bias2 = torch.zeros(8, requires_grad=True)\n",
    "\n",
    "learning_rate = 0.2\n",
    "epochs = 1000\n",
    "\n",
    "loss_arr = []\n",
    "acc_arr = []\n",
    "\n",
    "for epoch in range(epochs):\n",
    "  y_hat = model(X_train)\n",
    "  loss = F.cross_entropy(y_hat, Y_train)\n",
    "  loss.backward()\n",
    "  loss_arr.append(loss.item())\n",
    "  acc_arr.append(accuracy(y_hat, Y_train))\n",
    "\n",
    "  with torch.no_grad():\n",
    "    weights1 -= weights1.grad * learning_rate\n",
    "    bias1 -= bias1.grad * learning_rate\n",
    "    weights2 -= weights2.grad * learning_rate\n",
    "    bias2 -= bias2.grad * learning_rate\n",
    "    weights1.grad.zero_()\n",
    "    bias1.grad.zero_()\n",
    "    weights2.grad.zero_()\n",
    "    bias2.grad.zero_()\n",
    "\n",
    "plt.plot(loss_arr, 'r-')\n",
    "plt.plot(acc_arr, 'b-')\n",
    "plt.show()\n",
    "print('Loss before training', loss_arr[0])\n",
    "print('Loss after training', loss_arr[-1])"
   ]
  },
  {
   "cell_type": "code",
   "execution_count": 204,
   "metadata": {},
   "outputs": [],
   "source": [
    "class FirstNetwork(nn.Module):\n",
    "  \n",
    "  def __init__(self):\n",
    "    super().__init__()\n",
    "    torch.manual_seed(0)\n",
    "    self.weights1 = nn.Parameter(torch.randn(4, 4) / math.sqrt(2))\n",
    "    self.bias1 = nn.Parameter(torch.zeros(4))\n",
    "    self.weights2 = nn.Parameter(torch.randn(4, 8) / math.sqrt(2))\n",
    "    self.bias2 = nn.Parameter(torch.zeros(8))\n",
    "    \n",
    "  def forward(self, X):\n",
    "    a1 = torch.matmul(X, self.weights1) + self.bias1\n",
    "    h1 = a1.sigmoid()\n",
    "    a2 = torch.matmul(h1, self.weights2) + self.bias2\n",
    "    h2 = a2.exp()/a2.exp().sum(-1).unsqueeze(-1)\n",
    "    return h2"
   ]
  },
  {
   "cell_type": "code",
   "execution_count": 211,
   "metadata": {},
   "outputs": [],
   "source": [
    "def fit(epochs = 1000, learning_rate = 0.2):\n",
    "  loss_arr = []\n",
    "  acc_arr = []\n",
    "  for epoch in range(epochs):\n",
    "    y_hat = fn(X_train)\n",
    "    loss = F.cross_entropy(y_hat, Y_train)\n",
    "    loss_arr.append(loss.item())\n",
    "    acc_arr.append(accuracy(y_hat, Y_train))\n",
    "\n",
    "    loss.backward()\n",
    "    with torch.no_grad():\n",
    "      for param in fn.parameters():\n",
    "        param -= learning_rate * param.grad\n",
    "      fn.zero_grad()\n",
    "        \n",
    "  plt.plot(loss_arr, 'r-')\n",
    "  plt.plot(acc_arr, 'b-')\n",
    "  plt.show()      \n",
    "  print('Loss before training', loss_arr[0])\n",
    "  print('Loss after training', loss_arr[-1])"
   ]
  },
  {
   "cell_type": "code",
   "execution_count": 212,
   "metadata": {},
   "outputs": [
    {
     "data": {
      "image/png": "[encoded data removed]",
      "text/plain": [
       "<Figure size 432x288 with 1 Axes>"
      ]
     },
     "metadata": {
      "needs_background": "light"
     },
     "output_type": "display_data"
    },
    {
     "name": "stdout",
     "output_type": "stream",
     "text": [
      "Loss before training 2.1716325283050537\n",
      "Loss after training 1.3293184041976929\n"
     ]
    }
   ],
   "source": [
    "fn = FirstNetwork()\n",
    "fit()"
   ]
  },
  {
   "cell_type": "code",
   "execution_count": 213,
   "metadata": {},
   "outputs": [],
   "source": [
    "class FirstNetwork_v1(nn.Module):\n",
    "  \n",
    "  def __init__(self):\n",
    "    super().__init__()\n",
    "    torch.manual_seed(0)\n",
    "    self.lin1 = nn.Linear(4, 4)\n",
    "    self.lin2 = nn.Linear(4, 8)\n",
    "    \n",
    "  def forward(self, X):\n",
    "    a1 = self.lin1(X)\n",
    "    h1 = a1.sigmoid()\n",
    "    a2 = self.lin2(h1)\n",
    "    h2 = a2.exp()/a2.exp().sum(-1).unsqueeze(-1)\n",
    "    return h2"
   ]
  },
  {
   "cell_type": "code",
   "execution_count": 214,
   "metadata": {},
   "outputs": [
    {
     "data": {
      "image/png": "[encoded data removed]",
      "text/plain": [
       "<Figure size 432x288 with 1 Axes>"
      ]
     },
     "metadata": {
      "needs_background": "light"
     },
     "output_type": "display_data"
    },
    {
     "name": "stdout",
     "output_type": "stream",
     "text": [
      "Loss before training 2.0221312046051025\n",
      "Loss after training 1.3257406949996948\n"
     ]
    }
   ],
   "source": [
    "fn = FirstNetwork_v1()\n",
    "fit()"
   ]
  },
  {
   "cell_type": "code",
   "execution_count": 216,
   "metadata": {},
   "outputs": [],
   "source": [
    "def fit_v1(epochs = 1000, learning_rate = 0.2):\n",
    "  loss_arr = []\n",
    "  acc_arr = []\n",
    "  opt = optim.SGD(fn.parameters(), lr=learning_rate)\n",
    "  \n",
    "  for epoch in range(epochs):\n",
    "    y_hat = fn(X_train)\n",
    "    loss = F.cross_entropy(y_hat, Y_train)\n",
    "    loss_arr.append(loss.item())\n",
    "    acc_arr.append(accuracy(y_hat, Y_train))\n",
    "\n",
    "    loss.backward()\n",
    "    opt.step()\n",
    "    opt.zero_grad()\n",
    "        \n",
    "  plt.plot(loss_arr, 'r-')\n",
    "  plt.plot(acc_arr, 'b-')\n",
    "  plt.show()      \n",
    "  print('Loss before training', loss_arr[0])\n",
    "  print('Loss after training', loss_arr[-1])"
   ]
  },
  {
   "cell_type": "code",
   "execution_count": 217,
   "metadata": {},
   "outputs": [
    {
     "data": {
      "image/png": "[encoded data removed]",
      "text/plain": [
       "<Figure size 432x288 with 1 Axes>"
      ]
     },
     "metadata": {
      "needs_background": "light"
     },
     "output_type": "display_data"
    },
    {
     "name": "stdout",
     "output_type": "stream",
     "text": [
      "Loss before training 2.0221312046051025\n",
      "Loss after training 1.3257406949996948\n"
     ]
    }
   ],
   "source": [
    "fn = FirstNetwork_v1()\n",
    "fit_v1()"
   ]
  },
  {
   "cell_type": "code",
   "execution_count": 219,
   "metadata": {},
   "outputs": [],
   "source": [
    "class FirstNetwork_v2(nn.Module):\n",
    "  \n",
    "  def __init__(self):\n",
    "    super().__init__()\n",
    "    torch.manual_seed(0)\n",
    "    self.net = nn.Sequential(\n",
    "        nn.Linear(4, 4), \n",
    "        nn.Sigmoid(), \n",
    "        nn.Linear(4, 8), \n",
    "        nn.Softmax()\n",
    "    )\n",
    "\n",
    "  def forward(self, X):\n",
    "    return self.net(X)"
   ]
  },
  {
   "cell_type": "code",
   "execution_count": 220,
   "metadata": {},
   "outputs": [
    {
     "name": "stderr",
     "output_type": "stream",
     "text": [
      "/home/krishna/miniconda3/envs/padhai/lib/python3.7/site-packages/torch/nn/modules/container.py:100: UserWarning: Implicit dimension choice for softmax has been deprecated. Change the call to include dim=X as an argument.\n",
      "  input = module(input)\n"
     ]
    },
    {
     "data": {
      "image/png": "[encoded data removed]",
      "text/plain": [
       "<Figure size 432x288 with 1 Axes>"
      ]
     },
     "metadata": {
      "needs_background": "light"
     },
     "output_type": "display_data"
    },
    {
     "name": "stdout",
     "output_type": "stream",
     "text": [
      "Loss before training 2.0221312046051025\n",
      "Loss after training 1.3257406949996948\n"
     ]
    }
   ],
   "source": [
    "fn = FirstNetwork_v2()\n",
    "fit_v1()"
   ]
  },
  {
   "cell_type": "code",
   "execution_count": 221,
   "metadata": {},
   "outputs": [],
   "source": [
    "def fit_v2(x, y, model, opt, loss_fn, epochs = 1000):\n",
    "  \n",
    "  for epoch in range(epochs):\n",
    "    loss = loss_fn(model(x), y)\n",
    "\n",
    "    loss.backward()\n",
    "    opt.step()\n",
    "    opt.zero_grad()\n",
    "    \n",
    "  return loss.item()"
   ]
  },
  {
   "cell_type": "code",
   "execution_count": 223,
   "metadata": {},
   "outputs": [
    {
     "data": {
      "text/plain": [
       "1.3257406949996948"
      ]
     },
     "execution_count": 223,
     "metadata": {},
     "output_type": "execute_result"
    }
   ],
   "source": [
    "fn = FirstNetwork_v2()\n",
    "loss_fn = F.cross_entropy\n",
    "opt = optim.SGD(fn.parameters(), lr=0.2)\n",
    "fit_v2(X_train, Y_train, fn, opt, loss_fn)"
   ]
  },
  {
   "cell_type": "code",
   "execution_count": 226,
   "metadata": {},
   "outputs": [
    {
     "name": "stdout",
     "output_type": "stream",
     "text": [
      "Final loss 2.0220627784729004\n",
      "Time taken 0.8134410381317139\n"
     ]
    }
   ],
   "source": [
    "device = torch.device(\"cuda\")\n",
    "\n",
    "X_train=X_train.to(device)\n",
    "Y_train=Y_train.to(device)\n",
    "fn = FirstNetwork_v2()\n",
    "fn.to(device)\n",
    "tic = time.time()\n",
    "print('Final loss', fit_v2(X_train, Y_train, fn, opt, loss_fn))\n",
    "toc = time.time()\n",
    "print('Time taken', toc - tic)"
   ]
  },
  {
   "cell_type": "code",
   "execution_count": 227,
   "metadata": {},
   "outputs": [],
   "source": [
    "class FirstNetwork_v3(nn.Module):\n",
    "  \n",
    "  def __init__(self):\n",
    "    super().__init__()\n",
    "    torch.manual_seed(0)\n",
    "    self.net = nn.Sequential(\n",
    "        nn.Linear(4, 1024*4), \n",
    "        nn.Sigmoid(), \n",
    "        nn.Linear(1024*4, 4), \n",
    "        nn.Softmax()\n",
    "    )\n",
    "\n",
    "  def forward(self, X):\n",
    "    return self.net(X)"
   ]
  },
  {
   "cell_type": "code",
   "execution_count": 228,
   "metadata": {},
   "outputs": [
    {
     "name": "stdout",
     "output_type": "stream",
     "text": [
      "Final loss 1.2908447980880737\n",
      "Time taken 12.28536605834961\n"
     ]
    }
   ],
   "source": [
    "device = torch.device(\"cuda\")\n",
    "\n",
    "X_train=X_train.to(device)\n",
    "Y_train=Y_train.to(device)\n",
    "fn = FirstNetwork_v3()\n",
    "fn.to(device)\n",
    "tic = time.time()\n",
    "print('Final loss', fit_v2(X_train, Y_train, fn, opt, loss_fn))\n",
    "toc = time.time()\n",
    "print('Time taken', toc - tic)"
   ]
  },
  {
   "cell_type": "code",
   "execution_count": 236,
   "metadata": {},
   "outputs": [],
   "source": [
    "arr = np.array([465,511,323,51])"
   ]
  },
  {
   "cell_type": "code",
   "execution_count": 237,
   "metadata": {},
   "outputs": [],
   "source": [
    "arr = torch.from_numpy(arr)"
   ]
  },
  {
   "cell_type": "code",
   "execution_count": null,
   "metadata": {},
   "outputs": [],
   "source": []
  }
 ],
 "metadata": {
  "kernelspec": {
   "display_name": "Python 3",
   "language": "python",
   "name": "python3"
  },
  "language_info": {
   "codemirror_mode": {
    "name": "ipython",
    "version": 3
   },
   "file_extension": ".py",
   "mimetype": "text/x-python",
   "name": "python",
   "nbconvert_exporter": "python",
   "pygments_lexer": "ipython3",
   "version": "3.7.7"
  }
 },
 "nbformat": 4,
 "nbformat_minor": 4
}
